{
 "cells": [
  {
   "cell_type": "code",
   "execution_count": null,
   "metadata": {},
   "outputs": [],
   "source": [
    "import pandas as pd\n",
    "import numpy as np\n",
    "import matplotlib.pyplot as plt\n",
    "from sklearn.linear_model import LinearRegression, Ridge, Lasso\n",
    "from sklearn import datasets\n",
    "from sklearn.model_selection import train_test_split"
   ]
  },
  {
   "cell_type": "code",
   "execution_count": null,
   "metadata": {},
   "outputs": [],
   "source": [
    "df=pd.read_csv('globalTemp.csv')\n",
    "x=df['Year'].to_numpy()\n",
    "y=df['Actual Temp'].to_numpy()"
   ]
  },
  {
   "cell_type": "code",
   "execution_count": null,
   "metadata": {},
   "outputs": [],
   "source": [
    "plt.scatter(x,y,s=10)"
   ]
  },
  {
   "cell_type": "code",
   "execution_count": null,
   "metadata": {},
   "outputs": [],
   "source": [
    "X=[]\n",
    "order=2\n",
    "X=np.array([x**i for i in range(order+1)]).T"
   ]
  },
  {
   "cell_type": "code",
   "execution_count": null,
   "metadata": {},
   "outputs": [],
   "source": [
    "print(X[0])\n",
    "print(X.shape)"
   ]
  },
  {
   "cell_type": "code",
   "execution_count": null,
   "metadata": {},
   "outputs": [],
   "source": [
    "model=LinearRegression(fit_intercept=False)#fit_intercept=False means that we are not adding a bias term\n",
    "model.fit(X,y)\n",
    "W_2=model.coef_#W_2 is the weight vector of the model\n",
    "y_hat2=model.predict(X)#y_hat2 is the predicted value of the model"
   ]
  },
  {
   "cell_type": "code",
   "execution_count": null,
   "metadata": {},
   "outputs": [],
   "source": [
    "W_2"
   ]
  },
  {
   "cell_type": "code",
   "execution_count": null,
   "metadata": {},
   "outputs": [],
   "source": [
    "W=np.linalg.inv(X.T@X)@X.T@y\n",
    "y_hat=X@W\n"
   ]
  },
  {
   "cell_type": "code",
   "execution_count": null,
   "metadata": {},
   "outputs": [],
   "source": [
    "print(\"our weight = \",W)\n",
    "print(\"model weight = \",W_2)"
   ]
  },
  {
   "cell_type": "code",
   "execution_count": null,
   "metadata": {},
   "outputs": [],
   "source": [
    "plt.scatter(x,y,s=10,c='r')\n",
    "plt.plot(x,y_hat,c='k')\n",
    "plt.plot(x,y_hat2)"
   ]
  },
  {
   "cell_type": "code",
   "execution_count": null,
   "metadata": {},
   "outputs": [],
   "source": [
    "N_SAMPLES=500\n",
    "N_FEATURES=200\n",
    "NOISE=3\n",
    "data = datasets.make_regression(n_samples=N_SAMPLES, n_features=N_FEATURES,n_informative=5, noise=NOISE,random_state=9961)#make_regression is a function that generates a random regression problem\n",
    "X=data[0]\n",
    "y=data[1]\n",
    "X_train, X_test, y_train, y_test = train_test_split(X, y, test_size=0.3, random_state=9961)\n",
    "print(X_train.shape,y_train.shape)\n",
    "print(X_test.shape,y_test.shape)"
   ]
  },
  {
   "cell_type": "code",
   "execution_count": null,
   "metadata": {},
   "outputs": [],
   "source": [
    "W_lr=np.linalg.inv(X_train.T@X_train)@X_train.T@y_train\n",
    "y_train_hat=X_train@W_lr\n",
    "y_test_hat=X_test@W_lr\n",
    "train_loss=np.mean((y_train-y_train_hat)**2)\n",
    "test_loss=np.mean((y_test-y_test_hat)**2)\n",
    "\n",
    "print(\"weights norm l2 = \",np.linalg.norm(W_lr,2))#np.linalg.norm is a function that calculates the norm of a vector\n",
    "print(\"weights norm l1 = \",np.linalg.norm(W_lr,1))\n",
    "print(\"train loss = \",train_loss)\n",
    "print(\"test loss = \",test_loss)"
   ]
  },
  {
   "cell_type": "code",
   "execution_count": null,
   "metadata": {},
   "outputs": [],
   "source": [
    "#sklearn\n",
    "model=LinearRegression(fit_intercept=False)\n",
    "model.fit(X_train,y_train)\n",
    "W_lr2=model.coef_\n",
    "y_train_hat2=model.predict(X_train)\n",
    "y_test_hat2=model.predict(X_test)\n",
    "train_loss2=np.mean((y_train-y_train_hat2)**2)\n",
    "test_loss2=np.mean((y_test-y_test_hat2)**2)\n",
    "\n",
    "print(\"weights norm l2 = \",np.linalg.norm(W_lr2,2))\n",
    "print(\"weights norm l1 = \",np.linalg.norm(W_lr2,1))\n",
    "print(\"train loss = \",train_loss2)\n",
    "print(\"test loss = \",test_loss2)"
   ]
  },
  {
   "cell_type": "code",
   "execution_count": null,
   "metadata": {},
   "outputs": [],
   "source": [
    "#ridge regression  \n",
    "Lambda=2\n",
    "W_rr1=np.linalg.inv(X_train.T@X_train+Lambda*np.eye(N_FEATURES))@X_train.T@y_train\n",
    "y_train_hat_rr1=X_train@W_rr1\n",
    "y_test_hat_rr1=X_test@W_rr1\n",
    "train_loss_rr1=np.mean((y_train-y_train_hat_rr1)**2)\n",
    "test_loss_rr1=np.mean((y_test-y_test_hat_rr1)**2)\n",
    "\n",
    "print(\"weights norm = \",np.linalg.norm(W_rr1))\n",
    "print(\"train loss = \",train_loss_rr1)\n",
    "print(\"test loss = \",test_loss_rr1)"
   ]
  },
  {
   "cell_type": "code",
   "execution_count": null,
   "metadata": {},
   "outputs": [],
   "source": [
    "#sklearn\n",
    "Lambda=0.78\n",
    "model=Ridge(alpha=Lambda,fit_intercept=False)\n",
    "model.fit(X_train,y_train)\n",
    "W_rr2=model.coef_\n",
    "y_train_hat_rr2=model.predict(X_train)\n",
    "y_test_hat_rr2=model.predict(X_test)\n",
    "train_loss_rr2=np.mean((y_train-y_train_hat_rr2)**2)\n",
    "test_loss_rr2=np.mean((y_test-y_test_hat_rr2)**2)\n",
    "\n",
    "print(\"weight = \",W_rr2)\n",
    "print(\"weights norm = \",np.linalg.norm(W_rr2))\n",
    "print(\"train loss = \",train_loss_rr2)\n",
    "print(\"test loss = \",test_loss_rr2)"
   ]
  },
  {
   "cell_type": "code",
   "execution_count": null,
   "metadata": {},
   "outputs": [],
   "source": [
    "Lambda=0.78\n",
    "model=Lasso(alpha=Lambda,fit_intercept=False)\n",
    "model.fit(X_train,y_train)\n",
    "W_lasso=model.coef_\n",
    "y_train_hat_lasso=model.predict(X_train)\n",
    "y_test_hat_lasso=model.predict(X_test)\n",
    "train_loss_lasso=np.mean((y_train-y_train_hat_lasso)**2)\n",
    "test_loss_lasso=np.mean((y_test-y_test_hat_lasso)**2)\n",
    "\n",
    "print(\"weight = \",W_lasso)\n",
    "print(\"weights norm = \",np.linalg.norm(W_lasso))\n",
    "print(\"train loss = \",train_loss_lasso)\n",
    "print(\"test loss = \",test_loss_lasso)\n",
    "print(\"number of non-zero weights = \",np.sum(W_lasso!=0))\n"
   ]
  }
 ],
 "metadata": {
  "kernelspec": {
   "display_name": "Python 3",
   "language": "python",
   "name": "python3"
  },
  "language_info": {
   "codemirror_mode": {
    "name": "ipython",
    "version": 3
   },
   "file_extension": ".py",
   "mimetype": "text/x-python",
   "name": "python",
   "nbconvert_exporter": "python",
   "pygments_lexer": "ipython3",
   "version": "3.7.0"
  }
 },
 "nbformat": 4,
 "nbformat_minor": 2
}
