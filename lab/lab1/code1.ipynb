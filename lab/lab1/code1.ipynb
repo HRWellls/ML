{
 "cells": [
  {
   "cell_type": "code",
   "execution_count": null,
   "metadata": {},
   "outputs": [],
   "source": [
    "import torch\n",
    "\n",
    "x = torch.tensor([[1,2],[3,4]], dtype=torch.float32)\n",
    "print(\"x:\" ,x)\n",
    "\n",
    "import numpy as np\n",
    "x=torch.tensor(np.array([[1,2],[3,4]]), dtype=torch.float32)\n",
    "print(\"x:\" ,x)\n",
    "\n",
    "y = torch.zeros(2,2)\n",
    "print(\"y:\" ,y)\n",
    "\n",
    "z = torch.ones(2,2)\n",
    "print(\"z:\" ,z)\n",
    "\n",
    "w = torch.rand(2,2)\n",
    "print(\"w:\" ,w)"
   ]
  },
  {
   "cell_type": "code",
   "execution_count": null,
   "metadata": {},
   "outputs": [],
   "source": [
    "x = torch.tensor([[1,2,3],[4,5,6],[7,8,9]])\n",
    "\n",
    "print(x.dtype)\n",
    "print(x.shape)\n",
    "print(x.device)\n",
    "print(x.requires_grad)"
   ]
  },
  {
   "cell_type": "code",
   "execution_count": null,
   "metadata": {},
   "outputs": [],
   "source": [
    "print(x)\n",
    "print(x[1][2])\n",
    "print(x[0:2,1:3])\n",
    "print(x[:,2])\n",
    "\n",
    "print(x.T)\n",
    "\n",
    "print(x.reshape(1,9))\n",
    "print(x.reshape(1,-1))\n",
    "\n",
    "y = x.unsqueeze(0)\n",
    "print(y)\n",
    "print(y.shape)\n",
    "\n",
    "z = x.squeeze()\n",
    "print(z)\n",
    "print(z.shape)"
   ]
  },
  {
   "cell_type": "code",
   "execution_count": null,
   "metadata": {},
   "outputs": [],
   "source": [
    "print(x.permute(1,0))#transpose"
   ]
  },
  {
   "cell_type": "code",
   "execution_count": null,
   "metadata": {},
   "outputs": [],
   "source": [
    "tensor_list = [torch.rand(2,3,4) for i in range(10)]\n",
    "print(torch.cat(tensor_list, dim=1).shape) #按照第一个维度拼接"
   ]
  },
  {
   "cell_type": "code",
   "execution_count": null,
   "metadata": {},
   "outputs": [],
   "source": [
    "tensor_list = [torch.rand(2,3,4) for i in range(10)]\n",
    "print(torch.stack(tensor_list, dim=0).shape) #增加一个维度拼接"
   ]
  },
  {
   "cell_type": "code",
   "execution_count": null,
   "metadata": {},
   "outputs": [],
   "source": [
    "x = torch.arange(20,dtype=torch.float32).reshape(5,4)\n",
    "print(x)\n",
    "\n",
    "print(x.sum())\n",
    "print(x.sum(axis=0))"
   ]
  },
  {
   "cell_type": "code",
   "execution_count": null,
   "metadata": {},
   "outputs": [],
   "source": [
    "print(x.add(1))\n",
    "print(x.sub(1))\n",
    "print(x.pow(2))\n",
    "x.add_(1)\n",
    "print(x)"
   ]
  },
  {
   "cell_type": "code",
   "execution_count": null,
   "metadata": {},
   "outputs": [],
   "source": [
    "x = torch.arange(20,dtype=torch.float32).reshape(5,4)\n",
    "y = x.clone()\n",
    "x,x+y,x*y"
   ]
  },
  {
   "cell_type": "code",
   "execution_count": null,
   "metadata": {},
   "outputs": [],
   "source": [
    "print(x @ y.T)\n",
    "print(torch.mm(x,y.T))"
   ]
  },
  {
   "cell_type": "code",
   "execution_count": null,
   "metadata": {},
   "outputs": [],
   "source": [
    "print(x+2)\n",
    "print(x+torch.tensor([1,2,3,4]))"
   ]
  },
  {
   "cell_type": "markdown",
   "metadata": {},
   "source": [
    "# torch 的 autograd"
   ]
  },
  {
   "cell_type": "code",
   "execution_count": null,
   "metadata": {},
   "outputs": [],
   "source": [
    "x = torch.tensor([[1.,2.],[3.,4.]],requires_grad=True)\n",
    "print(x)\n",
    "\n",
    "y = x*x\n",
    "print(y)\n",
    "\n",
    "loss = y.sum()\n",
    "loss.backward()\n",
    "print(x.grad) #x.grad = dy/dx = 2*x"
   ]
  },
  {
   "cell_type": "code",
   "execution_count": null,
   "metadata": {},
   "outputs": [],
   "source": [
    "import torch\n",
    "from matplotlib import pyplot\n",
    "\n",
    "device = torch.device('cpu')\n",
    "\n",
    "N,D_in,H,D_out = 64,1000,100,10\n",
    "x = torch.randn(N,D_in,device=device)\n",
    "y = torch.randn(N,D_out,device=device)\n",
    "w1 = torch.randn(D_in,H,device=device,requires_grad=True)\n",
    "w2 = torch.randn(H,D_out,device=device,requires_grad=True)\n",
    "\n",
    "learning_rate = 1e-7\n",
    "losses = []\n",
    "print(\"start\")\n",
    "for i in range(500):\n",
    "    h = x.mm(w1)\n",
    "    h_relu = h.clamp(min=0)\n",
    "    y_pred = h_relu.mm(w2)\n",
    "\n",
    "    loss = (y_pred - y).pow(2).sum()\n",
    "    losses.append(loss.item())\n",
    "\n",
    "    if i % 100 == 99:\n",
    "        print(i,loss.item())\n",
    "    loss.backward()\n",
    "    \n",
    "    with torch.no_grad():\n",
    "        w1 -= learning_rate * w1.grad\n",
    "        w2 -= learning_rate * w2.grad\n",
    "        w1.grad.zero_()\n",
    "        w2.grad.zero_()\n",
    "\n",
    "pyplot.plot(losses)"
   ]
  },
  {
   "cell_type": "markdown",
   "metadata": {},
   "source": [
    "# build a simple neural network"
   ]
  },
  {
   "cell_type": "code",
   "execution_count": null,
   "metadata": {},
   "outputs": [],
   "source": [
    "import torch.nn as nn\n",
    "import torch.nn.functional as F\n",
    "import torch.optim as optim\n",
    "\n",
    "class SimpleNet(nn.Module):\n",
    "    def __init__(self):\n",
    "        super(SimpleNet,self).__init__()\n",
    "        self.linear1 = nn.Linear(2,8,bias=False)\n",
    "        self.linear2 = nn.Linear(8,1)\n",
    "\n",
    "    def forward(self,x):\n",
    "        h_relu = F.relu(self.linear1(x))\n",
    "        y_pred = self.linear2(h_relu)\n",
    "        return y_pred\n",
    "    \n",
    "net = SimpleNet()"
   ]
  },
  {
   "cell_type": "code",
   "execution_count": null,
   "metadata": {},
   "outputs": [],
   "source": [
    "print(net)\n",
    "\n",
    "criterion = nn.MSELoss()\n",
    "optimizer = optim.SGD(net.parameters(),lr=1e-2)\n",
    "\n",
    "data = torch.tensor([[1.,2.],[3.,4.]],dtype=torch.float32)\n",
    "label = torch.tensor([[0.],[1.]],dtype=torch.float32)\n",
    "\n",
    "for i in range(500):\n",
    "    outputs = net(data)\n",
    "    loss = criterion(outputs,label)\n",
    "\n",
    "    optimizer.zero_grad()\n",
    "\n",
    "    loss.backward()\n",
    "    optimizer.step()\n",
    "   \n",
    "    if i % 100 == 99:\n",
    "        print(f\"i[{i+1}/{500}], loss:{loss.item():.4f}\")"
   ]
  },
  {
   "cell_type": "code",
   "execution_count": null,
   "metadata": {},
   "outputs": [],
   "source": []
  }
 ],
 "metadata": {
  "kernelspec": {
   "display_name": "pytorch1",
   "language": "python",
   "name": "python3"
  },
  "language_info": {
   "codemirror_mode": {
    "name": "ipython",
    "version": 3
   },
   "file_extension": ".py",
   "mimetype": "text/x-python",
   "name": "python",
   "nbconvert_exporter": "python",
   "pygments_lexer": "ipython3",
   "version": "3.8.20"
  }
 },
 "nbformat": 4,
 "nbformat_minor": 2
}
